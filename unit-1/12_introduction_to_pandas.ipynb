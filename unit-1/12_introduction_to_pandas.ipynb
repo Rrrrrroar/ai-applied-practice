{
  "cells": [
    {
      "cell_type": "markdown",
      "metadata": {
        "colab_type": "text",
        "id": "view-in-github"
      },
      "source": [
        "<a href=\"https://colab.research.google.com/github/charlstown/ai-applied-practice/blob/main/unit-1/12_introduction_to_pandas.ipynb\" target=\"_parent\"><img src=\"https://colab.research.google.com/assets/colab-badge.svg\" alt=\"Open In Colab\"/></a>"
      ]
    },
    {
      "cell_type": "markdown",
      "metadata": {},
      "source": [
        "# Introduction to Pandas"
      ]
    },
    {
      "cell_type": "markdown",
      "metadata": {},
      "source": [
        "In these Python exercises, we will be working with data extracted directly from Spotify's Top Hit playlists from 2010 to 2022. This dataset includes information on songs and tracks that have been popular over the years.\n",
        "\n",
        "You can check and download the data for free in [kaggle site](https://www.kaggle.com/datasets/josephinelsy/spotify-top-hit-playlist-2010-2022)\n",
        "\n",
        "We will use pandas, a powerful data manipulation library, to explore and analyze this data. Get ready to dive into the world of music analytics with Python!"
      ]
    },
    {
      "cell_type": "markdown",
      "metadata": {},
      "source": [
        "**Libraries**\n",
        "\n",
        "Make sure you load the Pandas library in the notebook before starting the exercises."
      ]
    },
    {
      "cell_type": "code",
      "execution_count": 2,
      "metadata": {},
      "outputs": [],
      "source": [
        "# Import the pandas library here ⬇️\n"
      ]
    },
    {
      "cell_type": "markdown",
      "metadata": {},
      "source": [
        "## 2 Dataframe"
      ]
    },
    {
      "cell_type": "markdown",
      "metadata": {},
      "source": [
        "### 2.1 The data sample\n",
        "\n",
        "As a Spotify employee, your manager has tasked you with loading data from the Spotify private API, which contains valuable information about the company's music catalog. You need to retrieve this data and prepare it for analysis using Python and pandas. Let's get started with this data-driven mission!\n",
        "\n",
        "Load the csv data from the [data folder](https://github.com/charlstown/ai-applied-practice/blob/main/data/playlist_2010to2022.csv) at the [ai-applied-practice repository](https://github.com/charlstown/ai-applied-practice) and, save it in a variable named `df_sample`.\n",
        "\n",
        "Remember to check the lesson [2.2 Create df from a file](https://charlstown.github.io/ai-applied-education/program/unit-1/13-introduction-to-pandas/#22-create-df-from-a-file) from the documentation.\n",
        "\n",
        "The url from the csv is: https://raw.githubusercontent.com/charlstown/ai-applied-practice/main/data/playlist_2010to2022.csv"
      ]
    },
    {
      "cell_type": "code",
      "execution_count": 10,
      "metadata": {
        "id": "0q_REZt3-4_u"
      },
      "outputs": [],
      "source": [
        "# Load the dataframe here ⬇️\n"
      ]
    },
    {
      "cell_type": "markdown",
      "metadata": {},
      "source": [
        "## 3 Exploring operations\n",
        "\n",
        "Remember to check the lesson [3. Exploring operations](https://charlstown.github.io/ai-applied-education/program/unit-1/13-introduction-to-pandas/#3-exploring-operations) from the documentation."
      ]
    },
    {
      "cell_type": "markdown",
      "metadata": {},
      "source": [
        "### 3.1 The first overview\n",
        "\n",
        "Before diving into the task of loading and analyzing the data from your company, you decide to perform some preliminary operations on the DataFrame to help you quickly explore and understand the structure and content of the dataset."
      ]
    },
    {
      "cell_type": "markdown",
      "metadata": {},
      "source": [
        "#### Display the first 4 rows and the last 2 rows of the DataFrame. "
      ]
    },
    {
      "cell_type": "code",
      "execution_count": null,
      "metadata": {},
      "outputs": [],
      "source": [
        "# Your code here ⬇️\n",
        "\n",
        "# Display the results here here ⬇️\n"
      ]
    },
    {
      "cell_type": "markdown",
      "metadata": {},
      "source": [
        "#### Get the size an shape of the sample"
      ]
    },
    {
      "cell_type": "code",
      "execution_count": null,
      "metadata": {},
      "outputs": [],
      "source": [
        "# Your code here ⬇️\n",
        "\n",
        "# Display the results here here ⬇️\n"
      ]
    },
    {
      "cell_type": "markdown",
      "metadata": {},
      "source": [
        "#### Provide a summary using info() and describe()"
      ]
    },
    {
      "cell_type": "code",
      "execution_count": null,
      "metadata": {},
      "outputs": [],
      "source": [
        "# Your code here ⬇️\n",
        "\n",
        "# Display the results here here ⬇️\n"
      ]
    },
    {
      "cell_type": "markdown",
      "metadata": {},
      "source": [
        "### 4 Extracting operations\n",
        "\n",
        "Remember to check the lesson [4. Extracting operations](https://charlstown.github.io/ai-applied-education/program/unit-1/13-introduction-to-pandas/#4-extracting-operations) from the documentation."
      ]
    },
    {
      "cell_type": "markdown",
      "metadata": {},
      "source": [
        "#### Counting populars\n",
        "\n",
        "Your manager asks you to extract specific columns from the dataset, including:\n",
        "- artist_name\n",
        "- track_name\n",
        "- track_popularity\n",
        "\n",
        "Additionally, you're tasked with filtering the dataset to include only those rows where the `track_popularity` is over 90. Your final mission is to determine how many songs meet this popularity threshold."
      ]
    },
    {
      "cell_type": "code",
      "execution_count": 15,
      "metadata": {},
      "outputs": [],
      "source": [
        "# Extract the specific columns here ⬇️\n",
        "\n",
        "# Display the results here ⬇️\n"
      ]
    },
    {
      "cell_type": "code",
      "execution_count": 17,
      "metadata": {},
      "outputs": [],
      "source": [
        "# Filter the dataframe here ⬇️\n",
        "\n",
        "# Display the results here ⬇️\n"
      ]
    },
    {
      "cell_type": "code",
      "execution_count": 18,
      "metadata": {},
      "outputs": [],
      "source": [
        "# Count the number of rows of the dataset here ⬇️\n",
        "\n",
        "# Display the results here ⬇️\n"
      ]
    }
  ],
  "metadata": {
    "colab": {
      "authorship_tag": "ABX9TyPbn2reMZOKU25i1iatdj2Z",
      "include_colab_link": true,
      "provenance": []
    },
    "kernelspec": {
      "display_name": "Python 3",
      "name": "python3"
    },
    "language_info": {
      "codemirror_mode": {
        "name": "ipython",
        "version": 3
      },
      "file_extension": ".py",
      "mimetype": "text/x-python",
      "name": "python",
      "nbconvert_exporter": "python",
      "pygments_lexer": "ipython3",
      "version": "3.8.10"
    }
  },
  "nbformat": 4,
  "nbformat_minor": 0
}

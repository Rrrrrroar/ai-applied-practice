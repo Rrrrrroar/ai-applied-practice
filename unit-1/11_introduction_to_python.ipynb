{
 "cells": [
  {
   "cell_type": "markdown",
   "metadata": {
    "colab_type": "text",
    "id": "view-in-github"
   },
   "source": [
    "<a href=\"https://colab.research.google.com/github/charlstown/ai-applied-practice/blob/main/unit-1/11_introduction_to_python.ipynb\" target=\"_parent\"><img src=\"https://colab.research.google.com/assets/colab-badge.svg\" alt=\"Open In Colab\"/></a>"
   ]
  },
  {
   "cell_type": "markdown",
   "metadata": {
    "id": "PqwKWaYpDSjX"
   },
   "source": [
    "# Introduction to Python"
   ]
  },
  {
   "cell_type": "markdown",
   "metadata": {},
   "source": [
    "## 1 Variable types\n",
    "\n",
    "Variable types in Python represent simple, fundamental data types directly supported by the programming language, providing the building blocks for more complex data structures and operations.\n",
    "\n",
    "| Variable | Declaration | Example |\n",
    "| --- | --- | --- |\n",
    "| Integer | *int* | `128`; `1` |\n",
    "| Float | *float* | `1.5`; `14.` |\n",
    "| String | *str* | `\"This is a string.\"`; `\"126\"`; `\",.$\"` |\n",
    "| Boolean | *bool* | `True`; `False` |"
   ]
  },
  {
   "cell_type": "markdown",
   "metadata": {},
   "source": [
    "### 1.1 The NASA Satellite\n",
    "\n",
    "You're programming a NASA satellite to monitor space phenomena. Create variables to represent different attributes:\n",
    "\n",
    "- **satellite_id:** Assign an integer value to uniquely identify the satellite.\n",
    "- **satellite_name:** Assign a string value with the name of the satellite, e.g., \"AstroMonitor-1\".\n",
    "- **orbit_altitude:** Assign a floating-point value for the satellite's altitude in kilometers.\n",
    "- **is_active:** Assign a boolean value to indicate whether the satellite is active (True) or not (False)."
   ]
  },
  {
   "cell_type": "code",
   "execution_count": 7,
   "metadata": {
    "id": "5-I_XORjDRpa",
    "tags": []
   },
   "outputs": [],
   "source": [
    "# Write your variables here ⬇️\n",
    "\n",
    "# Print your variables here ⬇️\n"
   ]
  },
  {
   "cell_type": "markdown",
   "metadata": {},
   "source": [
    "### 1.2 The Stock Market\n",
    "\n",
    "You are creating a new stock trade in your company. Create the variables to represent the Stock:\n",
    "\n",
    "- **stock_symbol:** Assign a string value representing the stock symbol, e.g., \"AAPL\" for Apple Inc.\n",
    "- **stock_price:** Assign a floating-point value for the current stock price.\n",
    "- **num_shares:** Assign an integer value for the number of shares bought or sold.\n",
    "- **is_buy_order:** Assign a boolean value indicating whether it's a buy order (True) or a sell order (False)."
   ]
  },
  {
   "cell_type": "code",
   "execution_count": null,
   "metadata": {},
   "outputs": [],
   "source": [
    "# Write your variables here ⬇️\n",
    "\n",
    "# Print your variables here ⬇️\n"
   ]
  },
  {
   "cell_type": "markdown",
   "metadata": {},
   "source": [
    "## 2 Data structures\n",
    "\n",
    "| Variable | Declaration | Example |\n",
    "| --- | --- | --- |\n",
    "| List | *list* | `[1, \"Hi\", \"23\", True]` |\n",
    "| Dictionary | *dict* | `{\"element_a\": 3, \"other\": False}` |\n",
    "| Tuple | *tuple* | `(1, \"hi\", True)` |\n",
    "| Set | *set* | `{\"a\", 4, True, 9}` |"
   ]
  },
  {
   "cell_type": "markdown",
   "metadata": {},
   "source": [
    "### 2.1 Psychological disorders (lists)\n",
    "\n",
    "You own a psychology clinic and you need to create a list to store information about patients with psychological disorders. Choose the convenient variable type for each parameter.\n",
    "\n",
    "1. Create a list named `pat_jorge` containing Jorge's profile:\n",
    "    - Patology: Depression\n",
    "    - Score: 72.5\n",
    "    - Id: 124\n",
    "    - is_active: False\n",
    "\n",
    "*Remember to add only the patient data in the same order.*\n",
    "\n",
    "2. Create a list named `pat_martha` containing Martha's profile:\n",
    "    - Patology: Anxiety\n",
    "    - Score: 89.2\n",
    "    - Id: 089 [Be aware of this type of value]\n",
    "    - is_active: True\n",
    "\n",
    "*Remember to add only the patient data in the same order.*\n",
    "\n",
    "3. Create a list named `pat_peter` containing Peter's profile:\n",
    "    - Patology: Bipolar Disorder\n",
    "    - Score: 45.8\n",
    "    - Id: 003 [Be aware of this type of value]\n",
    "    - is_active: True\n",
    "\n",
    "Finally print the list for each patient."
   ]
  },
  {
   "cell_type": "code",
   "execution_count": 8,
   "metadata": {},
   "outputs": [],
   "source": [
    "# Write your patients lists here ⬇️\n",
    "\n",
    "# Print your lists here ⬇️\n"
   ]
  },
  {
   "cell_type": "markdown",
   "metadata": {},
   "source": [
    "### 2.2 Viral infections (dictionaries)\n",
    "\n",
    "You are a researcher studying viral infections and you need to organize data about different viruses using dictionaries. Create dictionaries to store information about three different viruses based on the provided parameters:\n",
    "\n",
    "Create a dictionary named `virus_influenza` for the Influenza virus:\n",
    "- Name: Influenza A\n",
    "- Origin: Avian\n",
    "- Mortality Rate: 0.1\n",
    "- Has Vaccine: True  \n",
    "\n",
    "Create a dictionary named `virus_ebola` for the Ebola virus:\n",
    "- Name: Ebola Virus\n",
    "- Origin: Bats\n",
    "- Mortality Rate: 0.5\n",
    "- Has Vaccine: False  \n",
    "\n",
    "Create a dictionary named `virus_coronavirus` for the Coronavirus:\n",
    "- Name: SARS-CoV-2\n",
    "- Origin: Bats\n",
    "- Mortality Rate: 0.02\n",
    "- Has Vaccine: True  \n",
    "\n",
    "Print the information stored in each dictionary. Make sure to add the keys and the values with the right letter case and format"
   ]
  },
  {
   "cell_type": "code",
   "execution_count": 9,
   "metadata": {},
   "outputs": [],
   "source": [
    "# Write your viruses dictionaries here ⬇️\n",
    "\n",
    "# Print your dictionaries here ⬇️\n"
   ]
  },
  {
   "cell_type": "markdown",
   "metadata": {},
   "source": [
    "## 3 Operators"
   ]
  },
  {
   "cell_type": "code",
   "execution_count": null,
   "metadata": {},
   "outputs": [],
   "source": []
  },
  {
   "cell_type": "code",
   "execution_count": null,
   "metadata": {},
   "outputs": [],
   "source": []
  },
  {
   "cell_type": "code",
   "execution_count": null,
   "metadata": {},
   "outputs": [],
   "source": []
  }
 ],
 "metadata": {
  "colab": {
   "authorship_tag": "ABX9TyNLbi2Le5ltBTtDYOwMbG4l",
   "include_colab_link": true,
   "provenance": []
  },
  "kernelspec": {
   "display_name": "Python 3 (ipykernel)",
   "language": "python",
   "name": "python3"
  },
  "language_info": {
   "codemirror_mode": {
    "name": "ipython",
    "version": 3
   },
   "file_extension": ".py",
   "mimetype": "text/x-python",
   "name": "python",
   "nbconvert_exporter": "python",
   "pygments_lexer": "ipython3",
   "version": "3.11.3"
  }
 },
 "nbformat": 4,
 "nbformat_minor": 4
}

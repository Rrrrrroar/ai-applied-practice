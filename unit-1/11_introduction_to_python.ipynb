{
 "cells": [
  {
   "cell_type": "markdown",
   "metadata": {
    "colab_type": "text",
    "id": "view-in-github"
   },
   "source": [
    "<a href=\"https://colab.research.google.com/github/charlstown/ai-applied-practice/blob/main/unit-1/11_introduction_to_python.ipynb\" target=\"_parent\"><img src=\"https://colab.research.google.com/assets/colab-badge.svg\" alt=\"Open In Colab\"/></a>"
   ]
  },
  {
   "cell_type": "markdown",
   "metadata": {
    "id": "PqwKWaYpDSjX"
   },
   "source": [
    "# Introduction to Python"
   ]
  },
  {
   "cell_type": "markdown",
   "metadata": {},
   "source": [
    "## 1 Variable types\n",
    "\n",
    "Variable types in Python represent simple, fundamental data types directly supported by the programming language, providing the building blocks for more complex data structures and operations.\n",
    "\n",
    "| Variable | Declaration | Example |\n",
    "| --- | --- | --- |\n",
    "| Integer | *int* | `128`; `1` |\n",
    "| Float | *float* | `1.5`; `14.` |\n",
    "| String | *str* | `\"This is a string.\"`; `\"126\"`; `\",.$\"` |\n",
    "| Boolean | *bool* | `True`; `False` |"
   ]
  },
  {
   "cell_type": "markdown",
   "metadata": {},
   "source": [
    "### 1.1 The NASA Satellite\n",
    "\n",
    "You're programming a NASA satellite to monitor space phenomena. Create variables to represent different attributes:\n",
    "\n",
    "- **satellite_id:** Assign an integer value to uniquely identify the satellite.\n",
    "- **satellite_name:** Assign a string value with the name of the satellite, e.g., \"AstroMonitor-1\".\n",
    "- **orbit_altitude:** Assign a floating-point value for the satellite's altitude in kilometers.\n",
    "- **is_active:** Assign a boolean value to indicate whether the satellite is active (True) or not (False)."
   ]
  },
  {
   "cell_type": "code",
   "execution_count": 7,
   "metadata": {
    "id": "5-I_XORjDRpa",
    "tags": []
   },
   "outputs": [],
   "source": [
    "# Write your variables here ⬇️\n",
    "\n",
    "# Print your variables here ⬇️\n"
   ]
  },
  {
   "cell_type": "markdown",
   "metadata": {},
   "source": [
    "### 1.2 The Stock Market\n",
    "\n",
    "You are creating a new stock trade in your company. Create the variables to represent the Stock:\n",
    "\n",
    "- **stock_symbol:** Assign a string value representing the stock symbol, e.g., \"AAPL\" for Apple Inc.\n",
    "- **stock_price:** Assign a floating-point value for the current stock price.\n",
    "- **num_shares:** Assign an integer value for the number of shares bought or sold.\n",
    "- **is_buy_order:** Assign a boolean value indicating whether it's a buy order (True) or a sell order (False)."
   ]
  },
  {
   "cell_type": "code",
   "execution_count": null,
   "metadata": {},
   "outputs": [],
   "source": [
    "# Write your variables here ⬇️\n",
    "\n",
    "# Print your variables here ⬇️\n"
   ]
  },
  {
   "cell_type": "markdown",
   "metadata": {},
   "source": [
    "## 2 Data structures\n",
    "\n",
    "| Variable | Declaration | Example |\n",
    "| --- | --- | --- |\n",
    "| List | *list* | `[1, \"Hi\", \"23\", True]` |\n",
    "| Dictionary | *dict* | `{\"element_a\": 3, \"other\": False}` |\n",
    "| Tuple | *tuple* | `(1, \"hi\", True)` |\n",
    "| Set | *set* | `{\"a\", 4, True, 9}` |"
   ]
  },
  {
   "cell_type": "markdown",
   "metadata": {},
   "source": [
    "### 2.1 Psychological disorders (lists)\n",
    "\n",
    "You own a psychology clinic and you need to create a list to store information about patients with psychological disorders. Choose the convenient variable type for each parameter.\n",
    "\n",
    "1. Create a list named `pat_jorge` containing Jorge's profile:\n",
    "    - Patology: Depression\n",
    "    - Score: 72.5\n",
    "    - Id: 124\n",
    "    - is_active: False\n",
    "\n",
    "*Remember to add only the patient data in the same order.*\n",
    "\n",
    "2. Create a list named `pat_martha` containing Martha's profile:\n",
    "    - Patology: Anxiety\n",
    "    - Score: 89.2\n",
    "    - Id: 089 [Be aware of this type of value]\n",
    "    - is_active: True\n",
    "\n",
    "*Remember to add only the patient data in the same order.*\n",
    "\n",
    "3. Create a list named `pat_peter` containing Peter's profile:\n",
    "    - Patology: Bipolar Disorder\n",
    "    - Score: 45.8\n",
    "    - Id: 003 [Be aware of this type of value]\n",
    "    - is_active: True\n",
    "\n",
    "Finally print the list for each patient."
   ]
  },
  {
   "cell_type": "code",
   "execution_count": 8,
   "metadata": {},
   "outputs": [],
   "source": [
    "# Write your patients lists here ⬇️\n",
    "\n",
    "# Print your lists here ⬇️\n"
   ]
  },
  {
   "cell_type": "markdown",
   "metadata": {},
   "source": [
    "### 2.2 Viral infections (dictionaries)\n",
    "\n",
    "You are a researcher studying viral infections and you need to organize data about different viruses using dictionaries. Create dictionaries to store information about three different viruses based on the provided parameters:\n",
    "\n",
    "Create a dictionary named `virus_influenza` for the Influenza virus:\n",
    "- Name: Influenza A\n",
    "- Origin: Avian\n",
    "- Mortality Rate: 0.1\n",
    "- Has Vaccine: True  \n",
    "\n",
    "Create a dictionary named `virus_ebola` for the Ebola virus:\n",
    "- Name: Ebola Virus\n",
    "- Origin: Bats\n",
    "- Mortality Rate: 0.5\n",
    "- Has Vaccine: False  \n",
    "\n",
    "Create a dictionary named `virus_coronavirus` for the Coronavirus:\n",
    "- Name: SARS-CoV-2\n",
    "- Origin: Bats\n",
    "- Mortality Rate: 0.02\n",
    "- Has Vaccine: True  \n",
    "\n",
    "Print the information stored in each dictionary. Make sure to add the keys and the values with the right letter case and format"
   ]
  },
  {
   "cell_type": "code",
   "execution_count": 9,
   "metadata": {},
   "outputs": [],
   "source": [
    "# Write your viruses dictionaries here ⬇️\n",
    "\n",
    "# Print your dictionaries here ⬇️\n"
   ]
  },
  {
   "cell_type": "markdown",
   "metadata": {},
   "source": [
    "## 3 Operators"
   ]
  },
  {
   "cell_type": "markdown",
   "metadata": {},
   "source": [
    "### 3.1 Numeric operators\n",
    "\n",
    "| Operator | Statement |\n",
    "| --- | --- |\n",
    "| Math operations | `1+3` , `5-2` , `10/5`, `2*4` |\n",
    "| Exponent | `2**3` |\n",
    "| String -> integer/float | `int(\"24\")` |\n",
    "| Reminder | `10%3` |\n",
    "| Max, min & sum | `max(lst)`, `min(lst)`, `sum(lst)` |\n",
    "| Absolute | `abs(-3)` |\n",
    "| Round | `round(3.2153, 1)` |\n",
    "| Floor Division | `12//6` |"
   ]
  },
  {
   "cell_type": "markdown",
   "metadata": {},
   "source": [
    "#### The Hacking risk score\n",
    "\n",
    "You are building a cybersecurity tool to calculate the \"Hacker Risk Score\" of your company based on the hacking attacks history. Each hacking activity is assigned a score, and you need to calculate the total risk score. Use different numeric operators to perform calculations.\n",
    "\n",
    "Create variables for the following hacking activities:\n",
    "\n",
    "social_engineering: 12 Score of a successful social engineering attack.  \n",
    "brute_force: 90 (Score for a successful brute force attack.)  \n",
    "malware: 105.2 (Score for creating and spreading malware.)  \n",
    "phishing: 42 (Score for a successful phishing attack.)  \n",
    "\n",
    "---\n",
    "\n",
    "Calculate the total hacker score using the variables and the appropriate numeric operators. Perform the following calculations:\n",
    "1. Add the scores of social_engineering and brute_force in a new variable `social_brute`.\n",
    "2. Divide `social_engineering` by 2 in a new variable `social_engineering_minored`\n",
    "2. Raise the integer to the power of 0.5 (use the exponent operator **) in a new variable `social_brute_exp`.\n",
    "3. Multiply the malware score by 1.5 in the variable `malware_coef`\n",
    "4. Add the scores of `phishing`, `social_engineering_minored`, `malware_coef`, and `social_brute_exp` in the new variable `hacker_score`.\n",
    "5. Overwrite the total `hacker_score` rounding the result to two decimal places.\n",
    "6. Print hacker_score along with a message \"The Hacker score of my company is --> `hacker_score`\" indicating the calculated score.\n",
    "\n",
    "RESULT SHOULD BE = 220.29"
   ]
  },
  {
   "cell_type": "code",
   "execution_count": 23,
   "metadata": {},
   "outputs": [],
   "source": [
    "# Initial scores here ⬇️\n",
    "\n",
    "\n",
    "# Calculations here ⬇️\n"
   ]
  },
  {
   "cell_type": "markdown",
   "metadata": {},
   "source": [
    "### 3.2 String operators\n",
    "\n",
    "| Operator | Statement |\n",
    "| --- | --- |\n",
    "| Integer/float to string | `str(31.2)` |\n",
    "| Length of a string | `len(\"Number of characters\")` |\n",
    "| Concatenate strings | `\"This\" + \" is\" + \" concatenation.\"` |\n",
    "| Escape characters | `\"\\\"Hello,\\\" she said.\"` |\n",
    "| Upper, Lower, Title cases | `\"My NaMe iS aLiCIa\".lower()` |\n",
    "| String to list | `\"Welcome to the dark side\".split()` |\n",
    "| Split string by | `\"This;is;a;string\".split(\";\")` |\n",
    "| List to string | `\" \".join([\"Hello\", \"World\"])` |\n",
    "| New line and tabulator | `\"First line\\n Second line\"` |\n",
    "| Check substring | `\"a\" in \"This is a test\"` |\n",
    "| Check only letters | `\"abcdefghijklmn\".isalpha()` |\n",
    "| Multiply strings | `\"Three\"*3` |\n",
    "| Replace string | `\"Thiz iz a ztring\".replace(\"z\", \"s\")` |\n",
    "| Strip text | `\"   Hi   \".strip()` |\n",
    "| Find index | `\"This is a string\".find(\"s\")` |"
   ]
  },
  {
   "cell_type": "markdown",
   "metadata": {},
   "source": [
    "#### Suspect analysis (String Operators)\n",
    "\n",
    "As an agent of the Defense Intelligence Agency, you've been tasked with processing a letter received from a suspect. Use various string operators to analyze and manipulate data.\n",
    "\n",
    "Suspect letter: \n",
    "\"I am a lone figure against modern society. My actions are a response to the industrial-technological system that dehumanizes us. Society's blind pursuit of progress must end. My bombings are my message, a plea for a return to a simpler existence.\"\n",
    "\n",
    "---\n",
    "\n",
    "Using the letter's text as a string, perform the following operations:\n",
    "\n",
    "- Count the total number of characters in the text and store it in a new variable `n_characters`.\n",
    "- Lowercase all the suspect letter and store it as `letter_lowered`.\n",
    "- Replace the symbols [.,-'] of `letter_lowered` and store the new text in the variable `letter_clean`.\n",
    "- Check if `letter_clean` is a string with only letters and save the result in `letter_is_alpha`.\n",
    "- Check if `letter_clean` contains the word \"message\" and save the result in `letter_has_message`.\n",
    "- Get the list of the words splitting the string `letter_clean` text by spaces in the variable `words`.\n",
    "- Count The number of words usning the function `len` and store the number of words in the varaible `n_words`.\n",
    "\n",
    "Print the results of each operation."
   ]
  },
  {
   "cell_type": "code",
   "execution_count": 24,
   "metadata": {},
   "outputs": [],
   "source": [
    "suspect_letter = \"I am a lone figure against modern society. My actions are a response to the industrial-technological system that dehumanizes us. Society's blind pursuit of progress must end. My bombings are my message, a plea for a return to a simpler existence.\""
   ]
  },
  {
   "cell_type": "code",
   "execution_count": 25,
   "metadata": {},
   "outputs": [],
   "source": [
    "# Total Number of characters in the text ⬇️\n",
    "\n",
    "# Lowercase all the suspect letter ⬇️\n",
    "\n",
    "# Replace the symbols [.,-'] ⬇️\n",
    "\n",
    "# Check if `letter_clean` is a string with only letters ⬇️\n",
    "\n",
    "# Check if `letter_clean` contains the word \"message\" ⬇️\n",
    "\n",
    "# Get the list of the words splitting the string `letter_clean` ⬇️\n",
    "\n",
    "# Count The number of words usning the function `len` ⬇️"
   ]
  },
  {
   "cell_type": "markdown",
   "metadata": {},
   "source": [
    "Print a final message summarizing the analysis.\n",
    "\n",
    "message = \"The number of characters of the message is X. The number of words counted are X. The result of the word \"message\" in the text is: X\""
   ]
  },
  {
   "cell_type": "code",
   "execution_count": 26,
   "metadata": {},
   "outputs": [],
   "source": [
    "# Print the final analysis ⬇️\n"
   ]
  },
  {
   "cell_type": "markdown",
   "metadata": {},
   "source": [
    "### 3.3 List operators\n",
    "\n",
    "| Operator | Statement |\n",
    "| --- | --- |\n",
    "| Element at index | `lst[2]` |\n",
    "| Get last element | `lst[-1]` |\n",
    "| Modify item | `lst[1] = 'x'` |\n",
    "| Add item at the end | `lst.append('a')` |\n",
    "| Slicing a list | `lst[1:3]` |\n",
    "| Order a list | `sorted(lst)` |\n",
    "| List length | `len(lst)` |\n",
    "| List from range | `list(range(1, 5))` |\n",
    "| Reverse a list | `lst.reverse()` |\n",
    "| Remove item | `lst.remove(5)` |\n",
    "| Count item | `lst.count('#')` |\n",
    "| Entwine lists | `zip(lst_a, lst_b)` |\n",
    "| Enumerate list | `enumerate(lst)` |"
   ]
  },
  {
   "cell_type": "markdown",
   "metadata": {},
   "source": [
    "#### The New Videogame (Lists Operators)\n",
    "\n",
    "You're developing a video game and need to manage the player's inventory using Python lists. \n",
    "\n",
    "inventory = sword, shield, ammo, health potion, key, armor, ammo\n",
    "\n",
    "\n",
    "Use the list operators to perform the following operations:\n",
    "\n",
    "1. Retrieve, and print the item at index 3, and the last item from the inventory list, and add them to `inventory_pick`.\n",
    "2. Replace the item `key` with a new item named `gold`.\n",
    "3. Add a `local map` to the end of the inventory list.\n",
    "4. Slice the inventory list to get all items from index 2 to 4 and store them in the variable `inventory_slice`.\n",
    "5. Sort the inventory list in alphabetical order and save it in a new variable `inventory_sort`.\n",
    "6. Calculate the total number of items in the inventory and save it in the varaible `n_inventory`.\n",
    "7. Create a new inventory list containing items from 1 to 4 using the list(range()) operator.\n",
    "8. Reverse the order of items in the inventory list and save it in `inventory_reversed`.\n",
    "9. Remove the item `armor` from the inventory list.\n",
    "10. Count the number of `ammo` items in the inventory.\n",
    "11. Combine the inventory list, with a list of numbers from 1 to the number of items in the list, using list(range()) and zip() operator.\n",
    "\n",
    "Print the resulting list after each operation to observe the changes in the inventory as you perform different actions in the game."
   ]
  },
  {
   "cell_type": "code",
   "execution_count": null,
   "metadata": {},
   "outputs": [],
   "source": [
    "inventory = ['sword', 'shield', 'ammo', 'health potion', 'key', 'armor', 'ammo']"
   ]
  },
  {
   "cell_type": "markdown",
   "metadata": {},
   "source": [
    "### 3.4 Dictionary operators\n",
    "\n",
    "| Operator | Statement |\n",
    "| --- | --- |\n",
    "| Add key | `dct['new_key'] = True` |\n",
    "| Add multiple keys | `dct.update({'key1' = 1, 'key2' = False})` |\n",
    "| Overwrite value | `dct['key'] = False` |\n",
    "| Extract value | `dct['new_key']` |\n",
    "| Delete key and value | `del dct['key_to_delete']` |\n",
    "| Keys & values list | `dct.keys()`, `dct.values()`, `dct.items()` |\n",
    "| Check key | `\"key\" in market_value` |\n",
    "| Pair lists to dict | `dict(zip(dct_1, dct_2))` |"
   ]
  },
  {
   "cell_type": "markdown",
   "metadata": {},
   "source": [
    "#### Managing Inventory (Dictionary Operators)\n",
    "\n",
    "You are the manager of an online gadget store, and you need to manage your inventory using dictionaries. Here's a cool exercise to practice different dictionary operators:\n",
    "\n",
    "1. Start with an empty inventory dictionary `gadgets_inventory`.\n",
    "\n",
    "2. Add three new gadgets to your inventory using the \"Add key\" operator:\n",
    "   - Add a gadget named \"Smartphone\" with a quantity of 50.\n",
    "   - Add a gadget named \"Headphones\" with a quantity of 100.\n",
    "   - Add a gadget named \"Tablet\" with a quantity of 25.\n",
    "\n",
    "3. Update the inventory using the \"Add multiple keys\" operator:\n",
    "   - Update the inventory by adding \"Laptop\" with a quantity of 75 and \"Smartwatch\" with a quantity of 30.\n",
    "\n",
    "4. Oops, it turns out the quantity of Smartphones is incorrect. Use the \"Overwrite value\" operator to set the quantity of Smartphones to 60.\n",
    "\n",
    "5. You need to know how many Tablets are in stock. Use the \"Extract value\" operator to retrieve the quantity of Tablets from the inventory.\n",
    "\n",
    "6. You've decided to stop selling headphones. Use the \"Delete key and value\" operator to remove \"Headphones\" from the inventory.\n",
    "\n",
    "7. Check if you have \"Laptop\" in your inventory using the \"Check key\" operator.\n",
    "\n",
    "8. You've received a new shipment of gadgets, but the delivery list is in two separate lists: gadget names and quantities. Use the \"Pair lists to dict\" operator to create a dictionary for the new gadgets: `new_gadgets = ['Camera', 'Smart Scale', 'Fitness Tracker']` and `new_quantities = [10, 15, 20]`.\n",
    "\n",
    "Finally, print the updated `gadgets_inventory` dictionary after completing all the operations. This exercise will help you practice using different dictionary operators to efficiently manage your store's inventory."
   ]
  },
  {
   "cell_type": "code",
   "execution_count": 27,
   "metadata": {},
   "outputs": [],
   "source": [
    "# Start coding here ⬇️"
   ]
  },
  {
   "attachments": {},
   "cell_type": "markdown",
   "metadata": {},
   "source": [
    "## If, elif, else statements"
   ]
  },
  {
   "attachments": {},
   "cell_type": "markdown",
   "metadata": {},
   "source": [
    "#### The scuba Diving Registration check\n",
    "\n",
    "You are developing a scuba diving website, and you need to implement a registration check script. Users must meet certain criteria to register successfully. \n",
    "\n",
    "Ask the user using input() function the following parameters:\n",
    "- Age\n",
    "- Name\n",
    "- Email\n",
    "\n",
    "Below are the conditions:\n",
    "- Users must be at least 18 years old to register.\n",
    "- Users must provide name with more than 2 letters and email with \"@\" symbol in the string to complete the registration.\n",
    "\n",
    "Print out the following messages:\n",
    "- If the user is not 18 years old, print `Sorry, you must be at least 18 years old to register.`\n",
    "- If the user is 18 or older but has not a valid name or email, print `Please provide a valid name and email to complete the registration.`\n",
    "- If the user is at least 18 years old and has provided both their name and email, print `User registration successful!`"
   ]
  },
  {
   "cell_type": "code",
   "execution_count": null,
   "metadata": {},
   "outputs": [],
   "source": [
    "# Ask user input here ⬇️\n",
    "\n",
    "\n",
    "# Start your code here ⬇️"
   ]
  },
  {
   "attachments": {},
   "cell_type": "markdown",
   "metadata": {},
   "source": [
    "#### The police department program\n",
    "\n",
    "You're working on a police department program to verify if provided identification numbers (DNI) are valid, and if they are in the police black list database.\n",
    "\n",
    "- Write an input() function: Begin by using the input() function to prompt the user to enter an identification number (DNI).\n",
    "\n",
    "In a nested if-else satement check the following conditions:\n",
    "- Check if the length of the input is exactly 10 characters. An DNI typically consists of 8 digits, a hyphen, and a single character. If not print \"Length missmatch\".\n",
    "- Check the format: Ensure that the first 8 characters are digits (0-9), and the ninth character is a hyphen ('-'), and verify that the last character is a letter (A-Z) or (a-z). If not print \"Invalid format\".\n",
    "\n",
    "If is not a valid ID for one of this conditions:\n",
    "- Print the string: \"The DNI X is not a valid ID.\"\n",
    "\n",
    "> Tip: To check multiple multiple Ifs conditions you can add a variable `valid = True` outside the statments, and if the condition **is not meet** you change the check variable to `False`\n",
    "\n",
    "Finally if the DNI is valid check if the DNI is in the black list database. If it is in the black list, print the alert message:\n",
    "\n",
    "```pyton\n",
    "[ALERT] The individual {NAME} with {DNI} is on the Blacklist database.  Immediate action and reporting are required.\n",
    "```\n",
    "\n",
    "If is not in the database print:\n",
    "```pyton\n",
    "[CLEAR] The DNI is not on the list. No further action is required at this time.\n",
    "```"
   ]
  },
  {
   "cell_type": "code",
   "execution_count": null,
   "metadata": {},
   "outputs": [],
   "source": [
    "black_list = { \"65941354-A\": \"Juan Varas\",\n",
    "              \"98765432-Z\": \"María López\",\n",
    "              \"56789012-M\": \"Carlos García\",\n",
    "              \"34567890-Y\": \"Ana Rodríguez\",\n",
    "              \"13508940-X\": \"Luis Urbión\",\n",
    "              \"51849732-B\": \"Sofía Fernández\",\n",
    "              \"60684930-C\": \"Pedro González\",\n",
    "              \"91736482-D\": \"Elena Torres\",\n",
    "              \"08566074-E\": \"Javier Bravo\",\n",
    "              \"76941572-F\": \"Laura Sánchez\" }"
   ]
  },
  {
   "cell_type": "code",
   "execution_count": null,
   "metadata": {},
   "outputs": [],
   "source": [
    "# Ask user input DNI here ⬇️\n",
    "\n",
    "\n",
    "# Check if the DNI is valid ⬇️\n",
    "\n",
    "\n",
    "# Check if the DNI is in the black list ⬇️\n"
   ]
  },
  {
   "attachments": {},
   "cell_type": "markdown",
   "metadata": {},
   "source": [
    "## Loops"
   ]
  },
  {
   "attachments": {},
   "cell_type": "markdown",
   "metadata": {},
   "source": [
    "#### The intercepted message\n",
    "\n",
    "You have intercepted a message from a secure system, but it appears to be encrypted using a simple substitution cipher. Each number in the message corresponds to the position of a letter in the alphabet (e.g., 1 represents 'a,' 2 represents 'b,' and so on). Your task is to decrypt the message and reveal its contents.\n",
    "\n",
    "- Create an empty string `decrypted_message` to store the decrypted message.\n",
    "- Implement a for loop to iterate through each number in the encrypted_message. For each number, convert it back to the corresponding letter in the alphabet (e.g., '2' becomes 'b') in this case you suspect that 0 represent an space between words.\n",
    "- Append the decrypted letter to the `decrypted_message` string.\n",
    "- Continue this process until you have decrypted the entire message.\n",
    "- Print the decrypted_message to reveal the intercepted message."
   ]
  },
  {
   "cell_type": "code",
   "execution_count": 16,
   "metadata": {},
   "outputs": [],
   "source": [
    "# Your base variables\n",
    "encrypted_message = \"20 8 5 0 13 9 19 19 9 12 5 0 23 1 19 0 12 1 21 14 3 8 5 4 0 20 8 9 19 0 13 15 18 14 9 14 7 0 1 20 0 20 23 5 12 22 5 0 1 13\"\n",
    "alphabet = \" abcdefghijklmnopqrstuvwxyz\""
   ]
  },
  {
   "cell_type": "code",
   "execution_count": 18,
   "metadata": {},
   "outputs": [],
   "source": [
    "# Decrypt the message here ⬇️\n"
   ]
  },
  {
   "attachments": {},
   "cell_type": "markdown",
   "metadata": {},
   "source": [
    "#### The tidy warehouse\n",
    "\n",
    "You are the new manager of an airplane warehouse and you need to implement an algorithm to order the airplanes in each unit. Fortunately, you know how to code in python and you think you can reprogram the bridge cranes to rearrange the airplanes in each unit so that they all face the same direction as the first plane on the left side of the unit.\n",
    "\n",
    "| Symbols | Meaning |\n",
    "| --- | --- |\n",
    "| \\| | Unit wall divider |\n",
    "| - | Empty slot |\n",
    "| > | airplane facing to the right |\n",
    "| < | airplane facing to the left |\n",
    "\n",
    "Example:\n",
    "- Untidy warehouse: `|->--<|<<>-->|`\n",
    "- Tidy warehouse: `|->-->|<<<--<|`\n",
    "\n",
    "Make sure you have the same number of planes parked in the same slots after implementing the algorithm."
   ]
  },
  {
   "cell_type": "code",
   "execution_count": 19,
   "metadata": {},
   "outputs": [],
   "source": [
    "warehouse = \"|-->-><--|->---<--<<-|-<<<>--<<>-|><-<--<>>--<-|\""
   ]
  },
  {
   "cell_type": "code",
   "execution_count": 20,
   "metadata": {},
   "outputs": [],
   "source": [
    "# Code your algorithm here ⬇️"
   ]
  }
 ],
 "metadata": {
  "colab": {
   "authorship_tag": "ABX9TyNLbi2Le5ltBTtDYOwMbG4l",
   "include_colab_link": true,
   "provenance": []
  },
  "kernelspec": {
   "display_name": ".env",
   "language": "python",
   "name": "python3"
  },
  "language_info": {
   "codemirror_mode": {
    "name": "ipython",
    "version": 3
   },
   "file_extension": ".py",
   "mimetype": "text/x-python",
   "name": "python",
   "nbconvert_exporter": "python",
   "pygments_lexer": "ipython3",
   "version": "3.8.10"
  },
  "vscode": {
   "interpreter": {
    "hash": "191f5b59da23d8f5597a02d0ad5b7396e6a208736fd38a86a9169861d6352415"
   }
  }
 },
 "nbformat": 4,
 "nbformat_minor": 4
}

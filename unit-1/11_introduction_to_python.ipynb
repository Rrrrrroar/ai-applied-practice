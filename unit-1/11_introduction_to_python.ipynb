{
 "cells": [
  {
   "cell_type": "markdown",
   "metadata": {
    "colab_type": "text",
    "id": "view-in-github"
   },
   "source": [
    "<a href=\"https://colab.research.google.com/github/charlstown/ai-applied-practice/blob/main/unit-1/11_introduction_to_python.ipynb\" target=\"_parent\"><img src=\"https://colab.research.google.com/assets/colab-badge.svg\" alt=\"Open In Colab\"/></a>"
   ]
  },
  {
   "cell_type": "markdown",
   "metadata": {
    "id": "PqwKWaYpDSjX"
   },
   "source": [
    "# Introduction to Python"
   ]
  },
  {
   "cell_type": "markdown",
   "metadata": {},
   "source": [
    "## 1 Variable types\n",
    "\n",
    "Variable types in Python represent simple, fundamental data types directly supported by the programming language, providing the building blocks for more complex data structures and operations.\n",
    "\n",
    "| Variable | Declaration | Example |\n",
    "| --- | --- | --- |\n",
    "| Integer | *int* | `128`; `1` |\n",
    "| Float | *float* | `1.5`; `14.` |\n",
    "| String | *str* | `\"This is a string.\"`; `\"126\"`; `\",.$\"` |\n",
    "| Boolean | *bool* | `True`; `False` |"
   ]
  },
  {
   "cell_type": "markdown",
   "metadata": {},
   "source": [
    "### 1.1 The NASA Satellite\n",
    "\n",
    "You're programming a NASA satellite to monitor space phenomena. Create variables to represent different attributes:\n",
    "\n",
    "- **satellite_id:** Assign an integer value to uniquely identify the satellite.\n",
    "- **satellite_name:** Assign a string value with the name of the satellite, e.g., \"AstroMonitor-1\".\n",
    "- **orbit_altitude:** Assign a floating-point value for the satellite's altitude in kilometers.\n",
    "- **is_active:** Assign a boolean value to indicate whether the satellite is active (True) or not (False)."
   ]
  },
  {
   "cell_type": "code",
   "execution_count": 7,
   "metadata": {
    "id": "5-I_XORjDRpa",
    "tags": []
   },
   "outputs": [],
   "source": [
    "# Write your variables here ⬇️\n",
    "\n",
    "# Print your variables here ⬇️\n"
   ]
  },
  {
   "cell_type": "markdown",
   "metadata": {},
   "source": [
    "### 1.2 The Stock Market\n",
    "\n",
    "You are creating a new stock trade in your company. Create the variables to represent the Stock:\n",
    "\n",
    "- **stock_symbol:** Assign a string value representing the stock symbol, e.g., \"AAPL\" for Apple Inc.\n",
    "- **stock_price:** Assign a floating-point value for the current stock price.\n",
    "- **num_shares:** Assign an integer value for the number of shares bought or sold.\n",
    "- **is_buy_order:** Assign a boolean value indicating whether it's a buy order (True) or a sell order (False)."
   ]
  },
  {
   "cell_type": "code",
   "execution_count": null,
   "metadata": {},
   "outputs": [],
   "source": [
    "# Write your variables here ⬇️\n",
    "\n",
    "# Print your variables here ⬇️\n"
   ]
  },
  {
   "cell_type": "markdown",
   "metadata": {},
   "source": [
    "## 2 Data structures\n",
    "\n",
    "| Variable | Declaration | Example |\n",
    "| --- | --- | --- |\n",
    "| List | *list* | `[1, \"Hi\", \"23\", True]` |\n",
    "| Dictionary | *dict* | `{\"element_a\": 3, \"other\": False}` |\n",
    "| Tuple | *tuple* | `(1, \"hi\", True)` |\n",
    "| Set | *set* | `{\"a\", 4, True, 9}` |"
   ]
  },
  {
   "cell_type": "markdown",
   "metadata": {},
   "source": [
    "### 2.1 Psychological disorders (lists)\n",
    "\n",
    "You own a psychology clinic and you need to create a list to store information about patients with psychological disorders. Choose the convenient variable type for each parameter.\n",
    "\n",
    "1. Create a list named `pat_jorge` containing Jorge's profile:\n",
    "    - Patology: Depression\n",
    "    - Score: 72.5\n",
    "    - Id: 124\n",
    "    - is_active: False\n",
    "\n",
    "*Remember to add only the patient data in the same order.*\n",
    "\n",
    "2. Create a list named `pat_martha` containing Martha's profile:\n",
    "    - Patology: Anxiety\n",
    "    - Score: 89.2\n",
    "    - Id: 089 [Be aware of this type of value]\n",
    "    - is_active: True\n",
    "\n",
    "*Remember to add only the patient data in the same order.*\n",
    "\n",
    "3. Create a list named `pat_peter` containing Peter's profile:\n",
    "    - Patology: Bipolar Disorder\n",
    "    - Score: 45.8\n",
    "    - Id: 003 [Be aware of this type of value]\n",
    "    - is_active: True\n",
    "\n",
    "Finally print the list for each patient."
   ]
  },
  {
   "cell_type": "code",
   "execution_count": 8,
   "metadata": {},
   "outputs": [],
   "source": [
    "# Write your patients lists here ⬇️\n",
    "\n",
    "# Print your lists here ⬇️\n"
   ]
  },
  {
   "cell_type": "markdown",
   "metadata": {},
   "source": [
    "### 2.2 Viral infections (dictionaries)\n",
    "\n",
    "You are a researcher studying viral infections and you need to organize data about different viruses using dictionaries. Create dictionaries to store information about three different viruses based on the provided parameters:\n",
    "\n",
    "Create a dictionary named `virus_influenza` for the Influenza virus:\n",
    "- Name: Influenza A\n",
    "- Origin: Avian\n",
    "- Mortality Rate: 0.1\n",
    "- Has Vaccine: True  \n",
    "\n",
    "Create a dictionary named `virus_ebola` for the Ebola virus:\n",
    "- Name: Ebola Virus\n",
    "- Origin: Bats\n",
    "- Mortality Rate: 0.5\n",
    "- Has Vaccine: False  \n",
    "\n",
    "Create a dictionary named `virus_coronavirus` for the Coronavirus:\n",
    "- Name: SARS-CoV-2\n",
    "- Origin: Bats\n",
    "- Mortality Rate: 0.02\n",
    "- Has Vaccine: True  \n",
    "\n",
    "Print the information stored in each dictionary. Make sure to add the keys and the values with the right letter case and format"
   ]
  },
  {
   "cell_type": "code",
   "execution_count": 9,
   "metadata": {},
   "outputs": [],
   "source": [
    "# Write your viruses dictionaries here ⬇️\n",
    "\n",
    "# Print your dictionaries here ⬇️\n"
   ]
  },
  {
   "cell_type": "markdown",
   "metadata": {},
   "source": [
    "## 3 Operators"
   ]
  },
  {
   "cell_type": "markdown",
   "metadata": {},
   "source": [
    "### 3.1 Numeric operators\n",
    "\n",
    "| Operator | Statement |\n",
    "| --- | --- |\n",
    "| Math operations | `1+3` , `5-2` , `10/5`, `2*4` |\n",
    "| Exponent | `2**3` |\n",
    "| String -> integer/float | `int(\"24\")` |\n",
    "| Reminder | `10%3` |\n",
    "| Max, min & sum | `max(lst)`, `min(lst)`, `sum(lst)` |\n",
    "| Absolute | `abs(-3)` |\n",
    "| Round | `round(3.2153, 1)` |\n",
    "| Floor Division | `12//6` |"
   ]
  },
  {
   "cell_type": "markdown",
   "metadata": {},
   "source": [
    "#### The Hacking risk score\n",
    "\n",
    "You are building a cybersecurity tool to calculate the \"Hacker Risk Score\" of your company based on the hacking attacks history. Each hacking activity is assigned a score, and you need to calculate the total risk score. Use different numeric operators to perform calculations.\n",
    "\n",
    "Create variables for the following hacking activities:\n",
    "\n",
    "social_engineering: 12 Score of a successful social engineering attack.  \n",
    "brute_force: 90 (Score for a successful brute force attack.)  \n",
    "malware: 105.2 (Score for creating and spreading malware.)  \n",
    "phishing: 42 (Score for a successful phishing attack.)  \n",
    "\n",
    "---\n",
    "\n",
    "Calculate the total hacker score using the variables and the appropriate numeric operators. Perform the following calculations:\n",
    "1. Add the scores of social_engineering and brute_force in a new variable `social_brute`.\n",
    "2. Divide `social_engineering` by 2 in a new variable `social_engineering_minored`\n",
    "2. Raise the integer to the power of 0.5 (use the exponent operator **) in a new variable `social_brute_exp`.\n",
    "3. Multiply the malware score by 1.5 in the variable `malware_coef`\n",
    "4. Add the scores of `phishing`, `social_engineering_minored`, `malware_coef`, and `social_brute_exp` in the new variable `hacker_score`.\n",
    "5. Overwrite the total `hacker_score` rounding the result to two decimal places.\n",
    "6. Print hacker_score along with a message \"The Hacker score of my company is --> `hacker_score`\" indicating the calculated score.\n",
    "\n",
    "RESULT SHOULD BE = 220.29"
   ]
  },
  {
   "cell_type": "code",
   "execution_count": 23,
   "metadata": {},
   "outputs": [],
   "source": [
    "# Initial scores here ⬇️\n",
    "\n",
    "\n",
    "# Calculations here ⬇️\n"
   ]
  },
  {
   "cell_type": "markdown",
   "metadata": {},
   "source": [
    "### 3.2 String operators\n",
    "\n",
    "| Operator | Statement |\n",
    "| --- | --- |\n",
    "| Integer/float to string | `str(31.2)` |\n",
    "| Length of a string | `len(\"Number of characters\")` |\n",
    "| Concatenate strings | `\"This\" + \" is\" + \" concatenation.\"` |\n",
    "| Escape characters | `\"\\\"Hello,\\\" she said.\"` |\n",
    "| Upper, Lower, Title cases | `\"My NaMe iS aLiCIa\".lower()` |\n",
    "| String to list | `\"Welcome to the dark side\".split()` |\n",
    "| Split string by | `\"This;is;a;string\".split(\";\")` |\n",
    "| List to string | `\" \".join([\"Hello\", \"World\"])` |\n",
    "| New line and tabulator | `\"First line\\n Second line\"` |\n",
    "| Check substring | `\"a\" in \"This is a test\"` |\n",
    "| Check only letters | `\"abcdefghijklmn\".isalpha()` |\n",
    "| Multiply strings | `\"Three\"*3` |\n",
    "| Replace string | `\"Thiz iz a ztring\".replace(\"z\", \"s\")` |\n",
    "| Strip text | `\"   Hi   \".strip()` |\n",
    "| Find index | `\"This is a string\".find(\"s\")` |"
   ]
  },
  {
   "cell_type": "markdown",
   "metadata": {},
   "source": [
    "#### Suspect analysis\n",
    "\n",
    "Suspect letter: \n",
    "\"I am a lone figure against modern society. My actions are a response to the industrial-technological system that dehumanizes us. Society's blind pursuit of progress must end. My bombings are my message, a plea for a return to a simpler existence.\"\n",
    "\n",
    "---\n",
    "\n",
    "Using the Unabomber's text as a string, perform the following operations:\n",
    "\n",
    "- Count the total number of characters in the text and store it in a new variable `n_characters`\n",
    "- Lowercase all the suspect letter and store it as `letter_lowered`\n",
    "- Replace the symbols [.,-'] of `letter_lowered` and store the new text in the variable `letter_clean`\n",
    "- Check if `letter_clean` is a string with only letters and save the result in `letter_is_alpha`.\n",
    "- Check if `letter_clean` contains the word \"message\" and save the result in `letter_has_message`\n",
    "- Get the list of the words splitting the string `letter_clean` text by spaces in the variable `words`.\n",
    "- Count The number of words usning the function `len` and store the number of words in the varaible `n_words`.\n",
    "\n",
    "Print the results of each operation."
   ]
  },
  {
   "cell_type": "code",
   "execution_count": 24,
   "metadata": {},
   "outputs": [],
   "source": [
    "suspect_letter = \"I am a lone figure against modern society. My actions are a response to the industrial-technological system that dehumanizes us. Society's blind pursuit of progress must end. My bombings are my message, a plea for a return to a simpler existence.\""
   ]
  },
  {
   "cell_type": "code",
   "execution_count": 25,
   "metadata": {},
   "outputs": [],
   "source": [
    "# Total Number of characters in the text ⬇️\n",
    "\n",
    "# Lowercase all the suspect letter ⬇️\n",
    "\n",
    "# Replace the symbols [.,-'] ⬇️\n",
    "\n",
    "# Check if `letter_clean` is a string with only letters ⬇️\n",
    "\n",
    "# Check if `letter_clean` contains the word \"message\" ⬇️\n",
    "\n",
    "# Get the list of the words splitting the string `letter_clean` ⬇️\n",
    "\n",
    "# Count The number of words usning the function `len` ⬇️"
   ]
  },
  {
   "cell_type": "markdown",
   "metadata": {},
   "source": [
    "Print a final message summarizing the analysis.\n",
    "\n",
    "message = \"The number of characters of the message is X. The number of words counted are X. The result of the word \"message\" in the text is: X\""
   ]
  },
  {
   "cell_type": "code",
   "execution_count": null,
   "metadata": {},
   "outputs": [],
   "source": [
    "# Print the final analysis"
   ]
  }
 ],
 "metadata": {
  "colab": {
   "authorship_tag": "ABX9TyNLbi2Le5ltBTtDYOwMbG4l",
   "include_colab_link": true,
   "provenance": []
  },
  "kernelspec": {
   "display_name": "Python 3 (ipykernel)",
   "language": "python",
   "name": "python3"
  },
  "language_info": {
   "codemirror_mode": {
    "name": "ipython",
    "version": 3
   },
   "file_extension": ".py",
   "mimetype": "text/x-python",
   "name": "python",
   "nbconvert_exporter": "python",
   "pygments_lexer": "ipython3",
   "version": "3.11.3"
  }
 },
 "nbformat": 4,
 "nbformat_minor": 4
}

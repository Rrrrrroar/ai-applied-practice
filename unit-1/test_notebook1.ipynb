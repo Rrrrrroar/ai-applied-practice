{
  "nbformat": 4,
  "nbformat_minor": 0,
  "metadata": {
    "colab": {
      "provenance": [],
      "authorship_tag": "ABX9TyNLbi2Le5ltBTtDYOwMbG4l"
    },
    "kernelspec": {
      "name": "python3",
      "display_name": "Python 3"
    },
    "language_info": {
      "name": "python"
    }
  },
  "cells": [
    {
      "cell_type": "markdown",
      "source": [
        "# This is a test"
      ],
      "metadata": {
        "id": "PqwKWaYpDSjX"
      }
    },
    {
      "cell_type": "code",
      "execution_count": 1,
      "metadata": {
        "id": "5-I_XORjDRpa"
      },
      "outputs": [],
      "source": [
        "test = \"Hello World\""
      ]
    },
    {
      "cell_type": "code",
      "source": [
        "print(test)"
      ],
      "metadata": {
        "colab": {
          "base_uri": "https://localhost:8080/"
        },
        "id": "-LdwKxMqDVy9",
        "outputId": "4f930090-fbe3-4eaa-b7f4-4fa09835c082"
      },
      "execution_count": 2,
      "outputs": [
        {
          "output_type": "stream",
          "name": "stdout",
          "text": [
            "Hello World\n"
          ]
        }
      ]
    }
  ]
}
